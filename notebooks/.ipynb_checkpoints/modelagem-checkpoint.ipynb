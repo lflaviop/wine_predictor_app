{
 "cells": [
  {
   "cell_type": "markdown",
   "metadata": {},
   "source": [
    "# Preditor de Espécies da Flor Íris"
   ]
  },
  {
   "cell_type": "markdown",
   "metadata": {},
   "source": [
    "<img src=\"images/iris_dataset_banner.png\" width=\"100%\">"
   ]
  },
  {
   "cell_type": "markdown",
   "metadata": {},
   "source": [
    "## Visão geral e objetivos"
   ]
  },
  {
   "cell_type": "markdown",
   "metadata": {},
   "source": [
    "Iris é um género de plantas com flor, muito apreciado pelas suas diversas espécies, que ostentam flores de cores muito vivas. São, vulgarmente, designadas como lírios, embora tal termo se aplique com mais propriedade a outro tipo de flor. É uma flor muito frequente em jardins. O conjunto de dados da flor Iris é um conjunto de dados multivariados introduzido pelo estatístico e biólogo britânico Ronald Fisher em seu artigo de 1936 que quantifica a variação morfológica das flores da íris de três espécies relacionadas. O conjunto de dados, disponível no [UCI Machine Learning Repository](https://archive.ics.uci.edu/ml/datasets/Iris?spm=a2c4e.11153940.blogcont603256.5.333b1d6f05ZggC), consiste em 150 amostras de cada uma das três espécies de Iris ( Iris setosa, Iris virginica e Iris versicolor ). Quatro variáveis foram medidas em cada amostra: o comprimento e a largura das sépalas e pétalas, em centímetros (Fonte: Wikipedia: [Conjunto de dados flor Iris](https://pt.wikipedia.org/wiki/Conjunto_de_dados_flor_Iris)). Considerando este conjunto de dados, deseja-se construir uma aplicação web que auxilie botânicos e floriculturistas a classificar de forma mais precisa é mais rápida uma Iris data as medidas da sépala é da pétala."
   ]
  },
  {
   "cell_type": "markdown",
   "metadata": {},
   "source": [
    "# Passo 1 - Setup do projeto"
   ]
  },
  {
   "cell_type": "code",
   "execution_count": 2,
   "metadata": {},
   "outputs": [
    {
     "name": "stdout",
     "output_type": "stream",
     "text": [
      "Matplot version: 3.3.1\n",
      "Numpy version: 1.19.1\n",
      "Pandas version: 1.1.1\n",
      "Scikit-learn version: 0.23.2\n"
     ]
    }
   ],
   "source": [
    "import joblib\n",
    "import os\n",
    "import urllib\n",
    "\n",
    "import matplotlib\n",
    "import matplotlib.pyplot as plt\n",
    "import numpy as np\n",
    "import pandas as pd\n",
    "import sklearn\n",
    "\n",
    "from sklearn.neighbors import KNeighborsClassifier\n",
    "\n",
    "print('Matplot version: {}'.format(matplotlib.__version__))\n",
    "print('Numpy version: {}'.format(np.__version__))\n",
    "print('Pandas version: {}'.format(pd.__version__))\n",
    "print('Scikit-learn version: {}'.format(sklearn.__version__))\n",
    "\n",
    "IRIS_ROOT = 'https://archive.ics.uci.edu/ml/machine-learning-databases/iris/'\n",
    "IRIS_URL = IRIS_ROOT + 'iris.data' \n",
    "\n",
    "DATA_PATH = os.path.join('..', 'data', 'raw')\n",
    "DATA_FILE = 'iris.csv'\n",
    "IRIS_DATA = os.path.join(DATA_PATH, DATA_FILE)\n",
    "\n",
    "DEPLOY_PATH = os.path.join('..', 'app', 'model')\n",
    "DEPLOY_FILE = 'finalized_model.sav'"
   ]
  },
  {
   "cell_type": "markdown",
   "metadata": {},
   "source": [
    "# Passo 2 - Recuperação dos Dados"
   ]
  },
  {
   "cell_type": "code",
   "execution_count": 4,
   "metadata": {},
   "outputs": [],
   "source": [
    "def download_data(data_url, data_path, data_file):\n",
    "    os.makedirs(data_path, exist_ok=True)\n",
    "    local_path = os.path.join(data_path, data_file)\n",
    "    urllib.request.urlretrieve(data_url, local_path)\n"
   ]
  },
  {
   "cell_type": "code",
   "execution_count": 6,
   "metadata": {},
   "outputs": [],
   "source": [
    "download_data(IRIS_URL, DATA_PATH, DATA_FILE)"
   ]
  },
  {
   "cell_type": "code",
   "execution_count": 7,
   "metadata": {},
   "outputs": [],
   "source": [
    "def load_data(data_path, data_file):\n",
    "    local_path = os.path.join(data_path, data_file)\n",
    "    return pd.read_csv(local_path, header=None, names=['sepal_length', 'sepal_width',\n",
    "                                                       'petal_length', 'petal_width',\n",
    "                                                       'class'])"
   ]
  },
  {
   "cell_type": "code",
   "execution_count": 8,
   "metadata": {},
   "outputs": [],
   "source": [
    "iris_data = load_data(DATA_PATH, DATA_FILE)"
   ]
  },
  {
   "cell_type": "markdown",
   "metadata": {},
   "source": [
    "# PASSO 3 - Análise Exploratória de Dados"
   ]
  },
  {
   "cell_type": "code",
   "execution_count": null,
   "metadata": {},
   "outputs": [],
   "source": []
  }
 ],
 "metadata": {
  "kernelspec": {
   "display_name": "Python 3",
   "language": "python",
   "name": "python3"
  },
  "language_info": {
   "codemirror_mode": {
    "name": "ipython",
    "version": 3
   },
   "file_extension": ".py",
   "mimetype": "text/x-python",
   "name": "python",
   "nbconvert_exporter": "python",
   "pygments_lexer": "ipython3",
   "version": "3.8.5"
  }
 },
 "nbformat": 4,
 "nbformat_minor": 4
}
